{
 "cells": [
  {
   "cell_type": "code",
   "execution_count": null,
   "metadata": {},
   "outputs": [],
   "source": [
    "import os\n",
    "import sys\n",
    "os.add_dll_directory(r'C:\\Users\\modip\\Downloads\\openslide-bin-4.0.0.5-windows-x64\\bin')\n",
    "from openslide import open_slide\n",
    "from wholeslidedata.image.wholeslideimage import WholeSlideImage\n",
    "from wholeslidedata import WholeSlideImage\n",
    "from wholeslidedata.interoperability.openslide.backend import OpenSlideWholeSlideImageBackend\n",
    "import numpy as np\n",
    "from matplotlib import pyplot as plt\n",
    "import cv2\n",
    "from patchify import patchify\n",
    "from concurrent.futures import ThreadPoolExecutor\n",
    "from tqdm import tqdm\n",
    "import uuid\n"
   ]
  },
  {
   "cell_type": "code",
   "execution_count": null,
   "metadata": {},
   "outputs": [],
   "source": [
    "wsi = open_slide('ti\\\\t1\\wsi\\images\\\\100B.tif')\n",
    "spacing = 0.45669399219053275 # more spacing means zoom out and less spacing means zoom in\n",
    "real_spacing = wsi.get_real_spacing(spacing)\n",
    "shape = wsi.get_shape_from_spacing(spacing)\n",
    "downsampling = wsi.get_downsampling_from_spacing(spacing)"
   ]
  },
  {
   "cell_type": "code",
   "execution_count": null,
   "metadata": {},
   "outputs": [],
   "source": [
    "print(f'wsi path: {wsi.path}')\n",
    "print(f'level count: {wsi.level_count}')\n",
    "print(f'spacings: {wsi.spacings}')\n",
    "print(f'shapes:  {wsi.shapes}')\n",
    "print(f'downsamplings: {wsi.downsamplings}')\n",
    "print(f'closest real spacing to {spacing} = {real_spacing}')\n",
    "print(f'shape at spacing {spacing} = {shape}')\n",
    "print(f'downsampling at spacing {spacing} = {downsampling}')"
   ]
  },
  {
   "cell_type": "code",
   "execution_count": null,
   "metadata": {},
   "outputs": [],
   "source": [
    "x, y = np.array(wsi.shapes[0]) / 2\n",
    "width, height = 1024, 1024\n",
    "\n",
    "slide8_0 = wsi.get_slide(spacing=3)\n",
    "patch2_0 = wsi.get_patch(x=x, y=y, width=width, height=height, spacing=2.0)\n",
    "patch0_5 = wsi.get_patch(x=x, y=y, width=width, height=height, spacing=0.5)"
   ]
  },
  {
   "cell_type": "code",
   "execution_count": null,
   "metadata": {},
   "outputs": [],
   "source": [
    "fig, axes = plt.subplots(1, 3, figsize=(20, 10))\n",
    "axes[0].imshow(patch0_5)\n",
    "axes[0].set_title(f'patch at spacing 0.5 with center coordinate {x,y}', pad=20)\n",
    "axes[1].imshow(patch2_0)\n",
    "axes[1].set_title(f'patch at spacing 2.0 with center coordinate {x,y}', pad=20)\n",
    "axes[2].imshow(slide8_0)\n",
    "axes[2].set_title(f'slide at spacing 8.0', pad=20)\n",
    "plt.tight_layout()\n",
    "plt.show()"
   ]
  },
  {
   "cell_type": "code",
   "execution_count": null,
   "metadata": {},
   "outputs": [],
   "source": [
    "tc_wsi = WholeSlideImage(path='images\\TC_S01_P000002_C0001_B107.tif', backend=OpenSlideWholeSlideImageBackend)\n",
    "num_wsi=WholeSlideImage(path='images\\\\103S.tif', backend=OpenSlideWholeSlideImageBackend)\n",
    "tc_slide = tc_wsi.get_slide(spacing=5.0)\n",
    "num_slide = num_wsi.get_slide(spacing=8.0)\n",
    "fig, axes = plt.subplots(1, 2, figsize=(20, 10))\n",
    "axes[0].imshow(tc_slide)\n",
    "axes[0].set_title(f'TC Slide at spacing 1.0', pad=20)\n",
    "axes[1].imshow(num_slide)\n",
    "axes[1].set_title(f'NUM Slide at spacing 1.0', pad=20)\n",
    "plt.tight_layout()\n",
    "plt.show()"
   ]
  },
  {
   "cell_type": "code",
   "execution_count": null,
   "metadata": {},
   "outputs": [],
   "source": [
    "import cv2\n",
    "import numpy as np\n",
    "\n",
    "def reinhard_normalization(source, target):\n",
    "    source_lab = cv2.cvtColor(source, cv2.COLOR_RGB2LAB).astype(np.float32)\n",
    "    target_lab = cv2.cvtColor(target, cv2.COLOR_RGB2LAB).astype(np.float32)\n",
    "    \n",
    "    source_mean, source_std = cv2.meanStdDev(source_lab)\n",
    "    target_mean, target_std = cv2.meanStdDev(target_lab)\n",
    "    print(source_lab.shape)\n",
    "    print(source_mean)\n",
    "    print(source_std.shape)\n",
    "    print(target_mean.shape)\n",
    "    print(target_std.shape)\n",
    "    source_lab = (source_lab - source_mean) * (target_std / source_std) + target_mean\n",
    "    \n",
    "    source_lab = np.clip(source_lab, 0, 255).astype(np.uint8)\n",
    "    return cv2.cvtColor(source_lab, cv2.COLOR_LAB2RGB)"
   ]
  },
  {
   "cell_type": "code",
   "execution_count": null,
   "metadata": {},
   "outputs": [],
   "source": [
    "tc_slide=tc_slide[:num_slide.shape[0],:num_slide.shape[1],:3]"
   ]
  },
  {
   "cell_type": "code",
   "execution_count": null,
   "metadata": {},
   "outputs": [],
   "source": [
    "normalized_image = reinhard_normalization(tc_slide, num_slide)"
   ]
  },
  {
   "cell_type": "code",
   "execution_count": null,
   "metadata": {},
   "outputs": [],
   "source": [
    "from tqdm import tqdm\n",
    "from histomicstk.preprocessing.color_normalization.deconvolution_based_normalization import deconvolution_based_normalization\n",
    "import cv2"
   ]
  },
  {
   "cell_type": "code",
   "execution_count": null,
   "metadata": {},
   "outputs": [],
   "source": [
    "def do_convert(targets, sources, save_root):\n",
    "    os.makedirs(save_root, exist_ok=True)\n",
    "    for target in targets:\n",
    "        target = cv2.imread(target)\n",
    "        target = cv2.cvtColor(target, cv2.COLOR_BGR2RGB)\n",
    "        for source in tqdm(sources):\n",
    "            name = os.path.basename(source)\n",
    "\n",
    "            source = cv2.imread(source)\n",
    "\n",
    "            source = cv2.cvtColor(source, cv2.COLOR_BGR2RGB)\n",
    "\n",
    "            stain_unmixing_routine_params = {\n",
    "                'stains': ['hematoxylin', 'eosin'],\n",
    "                'stain_unmixing_method': 'macenko_pca',\n",
    "            }\n",
    "            tissue_rgb_normalized = deconvolution_based_normalization(\n",
    "                source,\n",
    "                im_target=target,\n",
    "                stain_unmixing_routine_params=stain_unmixing_routine_params\n",
    "            )\n",
    "\n",
    "            source_change = cv2.cvtColor(tissue_rgb_normalized, cv2.COLOR_RGB2BGR)\n",
    "            result_path = os.path.join(save_root, name)\n",
    "            cv2.imwrite(result_path, source_change)\n",
    "    # os.makedirs(join(save_root), exist_ok=True)"
   ]
  },
  {
   "cell_type": "code",
   "execution_count": null,
   "metadata": {},
   "outputs": [],
   "source": [
    "tgs = ['tgs.png',\n",
    "        # '/media/totem_data_backup/totem/tiger-training-data/wsirois/roi-level-annotations/tissue-cells/images/114S_[25546, 18605, 26758, 19785].png'\n",
    "    ]\n",
    "scs = [\n",
    "        'src.png',\n",
    "        # '/media/totem_data_backup/totem/tiger-training-data/wsirois/roi-level-annotations/tissue-bcss/images/TCGA-LL-A73Y-01Z-00-DX1.50C20931-3AA9-40B4-8A73-56B1976423A8_[34061, 24725, 35279, 25785].png'\n",
    "    ]\n",
    "do_convert(targets=tgs, sources=scs, save_root='color_normalized')"
   ]
  },
  {
   "cell_type": "code",
   "execution_count": null,
   "metadata": {},
   "outputs": [],
   "source": [
    "\n",
    "\n",
    "def process_image_pair(img_path, mask_path, img_dir, mask_dir, output_dir, patch_size):\n",
    "    img = cv2.imread(os.path.join(img_dir, img_path))\n",
    "    mask = cv2.imread(os.path.join(mask_dir, mask_path))\n",
    "    \n",
    "    if img is None or mask is None:\n",
    "        return f\"Failed to load {img_path} or {mask_path}\"\n",
    "\n",
    "    img_patches = patchify(img, (patch_size, patch_size, 3), step=patch_size).reshape(-1, patch_size, patch_size, 3)\n",
    "    mask_patches = patchify(mask, (patch_size, patch_size, 3), step=patch_size).reshape(-1, patch_size, patch_size, 3)\n",
    "    \n",
    "    for i, (img_patch, mask_patch) in enumerate(zip(img_patches, mask_patches)):\n",
    "        unique_id = uuid.uuid4().hex\n",
    "        patch_filename = f'patch_{unique_id}.png'\n",
    "        img_patch_path = os.path.join(output_dir, 'images', patch_filename)\n",
    "        mask_patch_path = os.path.join(output_dir, 'masks', patch_filename)\n",
    "        \n",
    "        plt.imsave(img_patch_path, img_patch)\n",
    "        plt.imsave(mask_patch_path, mask_patch)\n",
    "    \n",
    "    return f\"Processed {img_path}\"\n",
    "\n",
    "def main():\n",
    "    img_dir = 'roi_tissue\\\\bcss\\\\images'\n",
    "    mask_dir = 'roi_tissue\\\\bcss\\\\masks'\n",
    "    output_dir = 'patches'\n",
    "    patch_size = 512\n",
    "\n",
    "    os.makedirs(os.path.join(output_dir, 'images'), exist_ok=True)\n",
    "    os.makedirs(os.path.join(output_dir, 'masks'), exist_ok=True)\n",
    "\n",
    "    img_paths = os.listdir(img_dir)\n",
    "    mask_paths = os.listdir(mask_dir)\n",
    "\n",
    "    with ThreadPoolExecutor(max_workers=5) as executor:\n",
    "        futures = [executor.submit(process_image_pair, img_path, mask_path, img_dir, mask_dir, output_dir, patch_size) \n",
    "                   for img_path, mask_path in zip(img_paths, mask_paths)]\n",
    "        \n",
    "        for future in tqdm(futures, total=len(futures), desc=\"Processing images\"):\n",
    "            print(future.result())\n",
    "\n",
    "main()"
   ]
  },
  {
   "cell_type": "code",
   "execution_count": null,
   "metadata": {},
   "outputs": [],
   "source": [
    "import os\n",
    "\n",
    "# Specify the directory containing your files\n",
    "directory = 'roi_tissue\\\\bcss\\images'\n",
    "\n",
    "# Iterate through all files in the directory\n",
    "for filename in os.listdir(directory):\n",
    "    if filename.endswith('.png') or filename.endswith('.jpg'):  # Adjust file extensions as needed\n",
    "        # Remove square brackets and replace spaces with underscores\n",
    "        new_filename = filename.replace('[', '').replace(']', '').replace(' ', '_')\n",
    "        \n",
    "        # Construct full file paths\n",
    "        old_file = os.path.join(directory, filename)\n",
    "        new_file = os.path.join('roi_tissue\\\\bcss\\\\reImages', new_filename)\n",
    "        \n",
    "        # Rename the file\n",
    "        os.rename(old_file, new_file)\n",
    "        print(f'Renamed: {filename} -> {new_filename}')\n",
    "\n",
    "print(\"File renaming complete.\")"
   ]
  }
 ],
 "metadata": {
  "kernelspec": {
   "display_name": "tiger_grand",
   "language": "python",
   "name": "python3"
  },
  "language_info": {
   "codemirror_mode": {
    "name": "ipython",
    "version": 3
   },
   "file_extension": ".py",
   "mimetype": "text/x-python",
   "name": "python",
   "nbconvert_exporter": "python",
   "pygments_lexer": "ipython3",
   "version": "3.10.14"
  }
 },
 "nbformat": 4,
 "nbformat_minor": 2
}
